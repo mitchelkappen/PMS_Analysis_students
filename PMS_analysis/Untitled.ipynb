{
 "cells": [
  {
   "cell_type": "code",
   "execution_count": 7,
   "id": "d84f1906-8abc-48b4-a7ee-c48da53cda51",
   "metadata": {},
   "outputs": [
    {
     "data": {
      "text/plain": [
       "'\\nIk heb kort een outline gemaakt zodat je er alvast mee kan beginnen. \\nProbeer veel met loops en functions te werken om de code overzichtelijk te houden\\nStart with file cleanata.csv (denk ik, die geeft je informatie over van welke participant welke files bestaan)\\nLoad timings.csv file that Tilia and Sofie madeStart loop from the top and use Order and A-B\\nIn loop check if file (corresponding CSV) exists in Directory (/10001 or /10002 depedent of A/B): later refered to as behaviordata\\nIn loop check if file (corresponding .WEBM) exists in Directory\\nIf both exist:\\n- Check if output of Openface exists in Z:\\\\shares\\\\ghepmk_data\\x820_Kappen_PMS@02\\x0bideo_features (or /10001 dependent of A/B)\\nIF True:\\nLoad this: Later refered to as facedata\\nIF False:\\nPrint: \"Video file present for file (insert filename) but no openface present)\"\\nBreak/skip whatever\\nUse filename/pptnum to search for right starting time in timings.csv variable\\nFind timing for beep.wav in behaviordata. Set new zero point (link between the timings.csv point and this)\\nMake mean scores on a few variables (we will expand this later) for the corresponding frames of each of the trials.\\n- To do this, you should write a function that takes the right points of a trial (start, end, trialnum etc) and save this data to a dataframe\\nCompute this in a way that you would be able to add it to allPMSdata.cvs\\nAdd it all to a new dataframe\\nWrite to csv\\n'"
      ]
     },
     "execution_count": 7,
     "metadata": {},
     "output_type": "execute_result"
    }
   ],
   "source": [
    "\n",
    "\n",
    "import glob\n",
    "import os\n",
    "import subprocess\n",
    "import numpy as np\n",
    "import pandas as pd\n",
    "import math\n",
    "\n",
    "from tqdm import tqdm\n",
    "from pathlib import Path\n",
    "\n",
    "import re\n",
    "\n",
    "\n",
    "\"\"\"\n",
    "Ik heb kort een outline gemaakt zodat je er alvast mee kan beginnen. \n",
    "Probeer veel met loops en functions te werken om de code overzichtelijk te houden\n",
    "Start with file cleanata.csv (denk ik, die geeft je informatie over van welke participant welke files bestaan)\n",
    "Load timings.csv file that Tilia and Sofie madeStart loop from the top and use Order and A-B\n",
    "In loop check if file (corresponding CSV) exists in Directory (/10001 or /10002 depedent of A/B): later refered to as behaviordata\n",
    "In loop check if file (corresponding .WEBM) exists in Directory\n",
    "If both exist:\n",
    "- Check if output of Openface exists in Z:\\shares\\ghepmk_data\\2020_Kappen_PMS\\10002\\video_features (or /10001 dependent of A/B)\n",
    "IF True:\n",
    "Load this: Later refered to as facedata\n",
    "IF False:\n",
    "Print: \"Video file present for file (insert filename) but no openface present)\"\n",
    "Break/skip whatever\n",
    "Use filename/pptnum to search for right starting time in timings.csv variable\n",
    "Find timing for beep.wav in behaviordata. Set new zero point (link between the timings.csv point and this)\n",
    "Make mean scores on a few variables (we will expand this later) for the corresponding frames of each of the trials.\n",
    "- To do this, you should write a function that takes the right points of a trial (start, end, trialnum etc) and save this data to a dataframe\n",
    "Compute this in a way that you would be able to add it to allPMSdata.cvs\n",
    "Add it all to a new dataframe\n",
    "Write to csv\n",
    "\"\"\""
   ]
  },
  {
   "cell_type": "code",
   "execution_count": 1,
   "id": "5ec5b2df-cce8-4c16-bb7b-1067634c5e76",
   "metadata": {},
   "outputs": [],
   "source": [
    "# Declare all directories:\n",
    "data_dir = Path('Z:/shares/ghepmk_data/2020_Kappen_PMS')\n",
    "\n",
    "# Create all relevant directories\n",
    "date_dir = \"24082021/\"\n",
    "data_all_dir = os.path.join(data_dir, date_dir)\n",
    "data_A_dir = os.path.join(data_dir, Path('10001'))\n",
    "data_B_dir = os.path.join(data_dir, Path('10002'))"
   ]
  }
 ],
 "metadata": {
  "kernelspec": {
   "display_name": "Python 3 (ipykernel)",
   "language": "python",
   "name": "python3"
  },
  "language_info": {
   "codemirror_mode": {
    "name": "ipython",
    "version": 3
   },
   "file_extension": ".py",
   "mimetype": "text/x-python",
   "name": "python",
   "nbconvert_exporter": "python",
   "pygments_lexer": "ipython3",
   "version": "3.8.11"
  }
 },
 "nbformat": 4,
 "nbformat_minor": 5
}
